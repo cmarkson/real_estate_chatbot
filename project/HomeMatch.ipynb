{
 "cells": [
  {
   "cell_type": "markdown",
   "id": "4e197696",
   "metadata": {},
   "source": [
    "# Step 1: Setting Up the Python Application"
   ]
  },
  {
   "cell_type": "markdown",
   "id": "a108af04",
   "metadata": {},
   "source": [
    "Initialize a Python Project: Create a new Python project, setting up a virtual environment and installing necessary packages like LangChain, a suitable LLM library (e.g., OpenAI's GPT), and a vector database package compatible with Python (e.g., ChromaDB or LanceDB). If you don't wish to create your files from scratch, starter files are available in the workspace on the next page as an application skeleton."
   ]
  },
  {
   "cell_type": "code",
   "execution_count": null,
   "id": "52f48ee6-2d14-4958-86f5-249264f55caa",
   "metadata": {},
   "outputs": [],
   "source": [
    "os.environ[\"OPENAI_API_KEY\"] = ''\n",
    "OPENAI_API_KEY=''"
   ]
  },
  {
   "cell_type": "code",
   "execution_count": null,
   "id": "e481743a",
   "metadata": {},
   "outputs": [
    {
     "name": "stdout",
     "output_type": "stream",
     "text": [
      "Requirement already satisfied: greenlet!=0.4.17 in /opt/conda/lib/python3.10/site-packages (from SQLAlchemy<3,>=1.4->langchain) (3.0.3)\n",
      "Requirement already satisfied: packaging>=17.0 in /opt/conda/lib/python3.10/site-packages (from marshmallow<4.0.0,>=3.18.0->dataclasses-json<0.7,>=0.5.7->langchain) (23.0)\n",
      "Requirement already satisfied: mypy-extensions>=0.3.0 in /opt/conda/lib/python3.10/site-packages (from typing-inspect<1,>=0.4.0->dataclasses-json<0.7,>=0.5.7->langchain) (1.0.0)\n",
      "Defaulting to user installation because normal site-packages is not writeable\n",
      "Requirement already satisfied: numpy in /opt/conda/lib/python3.10/site-packages (1.24.3)\n",
      "Defaulting to user installation because normal site-packages is not writeable\n",
      "Collecting langchain-openai\n",
      "  Downloading langchain_openai-0.1.8-py3-none-any.whl (38 kB)\n",
      "Collecting tiktoken<1,>=0.7\n",
      "  Downloading tiktoken-0.7.0-cp310-cp310-manylinux_2_17_x86_64.manylinux2014_x86_64.whl (1.1 MB)\n",
      "\u001b[2K     \u001b[90m━━━━━━━━━━━━━━━━━━━━━━━━━━━━━━━━━━━━━━━━\u001b[0m \u001b[32m1.1/1.1 MB\u001b[0m \u001b[31m5.4 MB/s\u001b[0m eta \u001b[36m0:00:00\u001b[0ma \u001b[36m0:00:01\u001b[0m\n",
      "\u001b[?25hRequirement already satisfied: openai<2.0.0,>=1.26.0 in /home/student/.local/lib/python3.10/site-packages (from langchain-openai) (1.34.0)\n",
      "Collecting langchain-core<0.3,>=0.2.2\n",
      "  Downloading langchain_core-0.2.7-py3-none-any.whl (315 kB)\n",
      "\u001b[2K     \u001b[90m━━━━━━━━━━━━━━━━━━━━━━━━━━━━━━━━━━━━━━\u001b[0m \u001b[32m315.6/315.6 kB\u001b[0m \u001b[31m38.6 MB/s\u001b[0m eta \u001b[36m0:00:00\u001b[0m\n",
      "\u001b[?25hRequirement already satisfied: PyYAML>=5.3 in /opt/conda/lib/python3.10/site-packages (from langchain-core<0.3,>=0.2.2->langchain-openai) (6.0)\n",
      "Requirement already satisfied: tenacity<9.0.0,>=8.1.0 in /opt/conda/lib/python3.10/site-packages (from langchain-core<0.3,>=0.2.2->langchain-openai) (8.3.0)\n",
      "Requirement already satisfied: jsonpatch<2.0,>=1.33 in /opt/conda/lib/python3.10/site-packages (from langchain-core<0.3,>=0.2.2->langchain-openai) (1.33)\n",
      "Collecting langsmith<0.2.0,>=0.1.75\n",
      "  Downloading langsmith-0.1.77-py3-none-any.whl (125 kB)\n",
      "\u001b[2K     \u001b[90m━━━━━━━━━━━━━━━━━━━━━━━━━━━━━━━━━━━━━━\u001b[0m \u001b[32m125.2/125.2 kB\u001b[0m \u001b[31m16.6 MB/s\u001b[0m eta \u001b[36m0:00:00\u001b[0m\n",
      "\u001b[?25hRequirement already satisfied: pydantic<3,>=1 in /opt/conda/lib/python3.10/site-packages (from langchain-core<0.3,>=0.2.2->langchain-openai) (1.10.12)\n",
      "Collecting packaging<25,>=23.2\n",
      "  Downloading packaging-24.1-py3-none-any.whl (53 kB)\n",
      "\u001b[2K     \u001b[90m━━━━━━━━━━━━━━━━━━━━━━━━━━━━━━━━━━━━━━━━\u001b[0m \u001b[32m54.0/54.0 kB\u001b[0m \u001b[31m11.1 MB/s\u001b[0m eta \u001b[36m0:00:00\u001b[0m\n",
      "\u001b[?25hRequirement already satisfied: tqdm>4 in /opt/conda/lib/python3.10/site-packages (from openai<2.0.0,>=1.26.0->langchain-openai) (4.65.0)\n",
      "Requirement already satisfied: anyio<5,>=3.5.0 in /opt/conda/lib/python3.10/site-packages (from openai<2.0.0,>=1.26.0->langchain-openai) (3.7.1)\n",
      "Requirement already satisfied: httpx<1,>=0.23.0 in /home/student/.local/lib/python3.10/site-packages (from openai<2.0.0,>=1.26.0->langchain-openai) (0.27.0)\n",
      "Requirement already satisfied: sniffio in /opt/conda/lib/python3.10/site-packages (from openai<2.0.0,>=1.26.0->langchain-openai) (1.3.1)\n",
      "Requirement already satisfied: distro<2,>=1.7.0 in /home/student/.local/lib/python3.10/site-packages (from openai<2.0.0,>=1.26.0->langchain-openai) (1.9.0)\n",
      "Requirement already satisfied: typing-extensions<5,>=4.7 in /opt/conda/lib/python3.10/site-packages (from openai<2.0.0,>=1.26.0->langchain-openai) (4.11.0)\n",
      "Requirement already satisfied: requests>=2.26.0 in /opt/conda/lib/python3.10/site-packages (from tiktoken<1,>=0.7->langchain-openai) (2.29.0)\n",
      "Requirement already satisfied: regex>=2022.1.18 in /opt/conda/lib/python3.10/site-packages (from tiktoken<1,>=0.7->langchain-openai) (2024.5.15)\n",
      "Requirement already satisfied: idna>=2.8 in /opt/conda/lib/python3.10/site-packages (from anyio<5,>=3.5.0->openai<2.0.0,>=1.26.0->langchain-openai) (3.4)\n",
      "Requirement already satisfied: exceptiongroup in /opt/conda/lib/python3.10/site-packages (from anyio<5,>=3.5.0->openai<2.0.0,>=1.26.0->langchain-openai) (1.1.1)\n",
      "Requirement already satisfied: httpcore==1.* in /home/student/.local/lib/python3.10/site-packages (from httpx<1,>=0.23.0->openai<2.0.0,>=1.26.0->langchain-openai) (1.0.5)\n",
      "Requirement already satisfied: certifi in /opt/conda/lib/python3.10/site-packages (from httpx<1,>=0.23.0->openai<2.0.0,>=1.26.0->langchain-openai) (2023.5.7)\n",
      "Requirement already satisfied: h11<0.15,>=0.13 in /opt/conda/lib/python3.10/site-packages (from httpcore==1.*->httpx<1,>=0.23.0->openai<2.0.0,>=1.26.0->langchain-openai) (0.14.0)\n",
      "Requirement already satisfied: jsonpointer>=1.9 in /opt/conda/lib/python3.10/site-packages (from jsonpatch<2.0,>=1.33->langchain-core<0.3,>=0.2.2->langchain-openai) (2.1)\n",
      "Collecting orjson<4.0.0,>=3.9.14\n",
      "  Downloading orjson-3.10.5-cp310-cp310-manylinux_2_17_x86_64.manylinux2014_x86_64.whl (144 kB)\n",
      "\u001b[2K     \u001b[90m━━━━━━━━━━━━━━━━━━━━━━━━━━━━━━━━━━━━━━\u001b[0m \u001b[32m145.0/145.0 kB\u001b[0m \u001b[31m22.9 MB/s\u001b[0m eta \u001b[36m0:00:00\u001b[0m\n",
      "\u001b[?25hRequirement already satisfied: charset-normalizer<4,>=2 in /opt/conda/lib/python3.10/site-packages (from requests>=2.26.0->tiktoken<1,>=0.7->langchain-openai) (2.0.4)\n",
      "Requirement already satisfied: urllib3<1.27,>=1.21.1 in /opt/conda/lib/python3.10/site-packages (from requests>=2.26.0->tiktoken<1,>=0.7->langchain-openai) (1.26.15)\n",
      "Installing collected packages: packaging, orjson, tiktoken, langsmith, langchain-core, langchain-openai\n",
      "\u001b[33m  WARNING: The script langsmith is installed in '/home/student/.local/bin' which is not on PATH.\n",
      "  Consider adding this directory to PATH or, if you prefer to suppress this warning, use --no-warn-script-location.\u001b[0m\u001b[33m\n",
      "\u001b[0m\u001b[31mERROR: pip's dependency resolver does not currently take into account all the packages that are installed. This behaviour is the source of the following dependency conflicts.\n",
      "langchain 0.0.305 requires langsmith<0.1.0,>=0.0.38, but you have langsmith 0.1.77 which is incompatible.\u001b[0m\u001b[31m\n",
      "\u001b[0mSuccessfully installed langchain-core-0.2.7 langchain-openai-0.1.8 langsmith-0.1.77 orjson-3.10.5 packaging-24.1 tiktoken-0.7.0\n",
      "Defaulting to user installation because normal site-packages is not writeable\n",
      "Requirement already satisfied: pydantic in /opt/conda/lib/python3.10/site-packages (1.10.12)\n",
      "Requirement already satisfied: typing-extensions>=4.2.0 in /opt/conda/lib/python3.10/site-packages (from pydantic) (4.11.0)\n",
      "Defaulting to user installation because normal site-packages is not writeable\n",
      "\u001b[31mERROR: Could not find a version that satisfies the requirement shutil (from versions: none)\u001b[0m\u001b[31m\n",
      "\u001b[0m\u001b[31mERROR: No matching distribution found for shutil\u001b[0m\u001b[31m\n",
      "\u001b[0m"
     ]
    }
   ],
   "source": [
    "!pip install -U pandas\n",
    "!pip install tiktoken\n",
    "!pip install pytest\n",
    "!pip install sentence-transformers\n",
    "!pip install transformers\n",
    "!pip install jupyter\n",
    "!pip install -U openai\n",
    "!pip install chromadb\n",
    "!pip install langchain\n",
    "!pip install numpy\n",
    "!pip install -U langchain-openai\n",
    "!pip install pydantic\n",
    "!pip install shutil"
   ]
  },
  {
   "cell_type": "code",
   "execution_count": null,
   "id": "6554fd4c",
   "metadata": {},
   "outputs": [],
   "source": [
    "import os\n",
    "import shutil\n",
    "import numpy as np\n",
    "import langchain\n",
    "import openai\n",
    "import chromadb\n",
    "import pandas as pd\n",
    "from langchain_openai import OpenAIEmbeddings\n",
    "from langchain.vectorstores.chroma import Chroma\n",
    "from langchain.schema import Document\n",
    "from langchain.text_splitter import RecursiveCharacterTextSplitter\n",
    "from langchain.prompts import ChatPromptTemplate\n",
    "from langchain_openai import ChatOpenAI\n"
   ]
  },
  {
   "cell_type": "markdown",
   "id": "567ae656",
   "metadata": {},
   "source": [
    "# Step 2: Generating Real Estate Listings "
   ]
  },
  {
   "cell_type": "markdown",
   "id": "51bdc965",
   "metadata": {},
   "source": [
    "Generate real estate listings using a Large Language Model. Generate at least 10 listings This can involve creating prompts for the LLM to produce descriptions of various properties. An example of a listing might be:\n",
    "    Neighborhood: Green Oaks\n",
    "    Price: $800,000\n",
    "    Bedrooms: 3\n",
    "    Bathrooms: 2\n",
    "    House Size: 2,000 sqft\n",
    "\n",
    "    Description: Welcome to this eco-friendly oasis nestled in the heart of Green Oaks. This charming 3-bedroom, 2-bathroom home boasts energy-efficient features such as solar panels and a well-insulated structure. Natural light floods the living spaces, highlighting the beautiful hardwood floors and eco-conscious finishes. The open-concept kitchen and dining area lead to a spacious backyard with a vegetable garden, perfect for the eco-conscious family. Embrace sustainable living without compromising on style in this Green Oaks gem.\n",
    "\n",
    "    Neighborhood Description: Green Oaks is a close-knit, environmentally-conscious community with access to organic grocery stores, community gardens, and bike paths. Take a stroll through the nearby Green Oaks Park or grab a cup of coffee at the cozy Green Bean Cafe. With easy access to public transportation and bike lanes, commuting is a breeze.\n",
    "    \n",
    "You'll use these listings to populate the database for testing and development of \"HomeMatch\"."
   ]
  },
  {
   "cell_type": "code",
   "execution_count": null,
   "id": "88e90fa1",
   "metadata": {},
   "outputs": [],
   "source": [
    "prompt='''\n",
    "Create a CSV file of 15 real estate listings. Generate representative data with the attributes as columns:\n",
    "\n",
    "1. Neighborhood: Identify the neighborhood location. Example: \"Green Oaks.\"\n",
    "2. Price: The property's market price in U.S. dollars. The format should be \"$xxx,xxx\".\n",
    "3. Bedrooms: Number of bedrooms in the property. Example: \"2\".\n",
    "4. Bathrooms: Number of bathrooms in the property.  There can be half-bathrooms that don't have a shower. Example: \"2.5\".\n",
    "5. House Size: The property's square footage.  Example: \"2,000 sqft\".\n",
    "\n",
    "Write a description of the property that is consistent with the data above.  Highlight important features or unique characteristics of the property at hand.\n",
    "Write a description of the surrounding neighborhood that is consistent with the data above.  Highlight important features or unique characteristics area that the property is located in such as schools, town characteristics, and surrounding businesses.\n",
    "\n",
    "Here is an example data point:\n",
    "Neighborhood,Price,Bedrooms,Bathrooms,House_Size,House_Description,Neighborhood_Description\n",
    "\"Green Oaks\",\"$800,000\",3,2,\"2,000 sqft\",\"Welcome to this eco-friendly oasis nestled in the heart of Green Oaks. This charming 3-bedroom, 2-bathroom home boasts energy-efficient features such as solar panels and a well-insulated structure. Natural light floods the living spaces, highlighting the beautiful hardwood floors and eco-conscious finishes. The open-concept kitchen and dining area lead to a spacious backyard with a vegetable garden, perfect for the eco-conscious family. Embrace sustainable living without compromising on style in this Green Oaks gem.\", \"Green Oaks is a close-knit, environmentally-conscious community with access to organic grocery stores, community gardens, and bike paths. Take a stroll through the nearby Green Oaks Park or grab a cup of coffee at the cozy Green Bean Cafe. With easy access to public transportation and bike lanes, commuting is a breeze.\"\n",
    "\n",
    "\n",
    "Make sure the CSV file has headers for each column. Follow the example provided to format each row with information specific to a unique property listing.\n",
    "Make sure you generate 15 unique listings.\n",
    "'''\n",
    "\n",
    "#Using GPT-4omni for cheaper and better results\n",
    "import openai\n",
    "\n",
    "client = openai.OpenAI(api_key = OPENAI_API_KEY)\n",
    "\n",
    "\n",
    "\n"
   ]
  },
  {
   "cell_type": "markdown",
   "id": "dabf8a96-5505-42c5-b119-fac07923a612",
   "metadata": {},
   "source": [
    "# Step 3: Storing Listings in a Vector Database"
   ]
  },
  {
   "cell_type": "markdown",
   "id": "5003a996-74f9-488b-867c-f23c101836a9",
   "metadata": {},
   "source": [
    "Vector Database Setup: Initialize and configure ChromaDB or a similar vector database to store real estate listings.\n",
    "\n",
    "Generating and Storing Embeddings: Convert the LLM-generated listings into suitable embeddings that capture the semantic content of each listing, and store these embeddings in the vector database."
   ]
  },
  {
   "cell_type": "code",
   "execution_count": null,
   "id": "206147ad",
   "metadata": {},
   "outputs": [],
   "source": [
    "messages=[{\"role\": \"system\", \"content\": \"You are a generator of synthetic data.\"},\n",
    "    {\"role\": \"user\", \"content\":  prompt}]\n",
    "\n",
    "print(messages)\n"
   ]
  },
  {
   "cell_type": "code",
   "execution_count": null,
   "id": "707f9ae1",
   "metadata": {},
   "outputs": [],
   "source": [
    "response = client.chat.completions.create(\n",
    "    model=\"gpt-4o\",\n",
    "    temperature = 0.0,\n",
    "    messages=messages\n",
    ")\n",
    "print(response.choices[0].message.content)"
   ]
  },
  {
   "cell_type": "code",
   "execution_count": null,
   "id": "fedd0d62",
   "metadata": {},
   "outputs": [],
   "source": [
    "df=pd.read_csv('home_reviews.txt')\n",
    "df.head()"
   ]
  },
  {
   "cell_type": "code",
   "execution_count": null,
   "id": "3ebe5f75-8916-4361-9466-54194dca61a9",
   "metadata": {},
   "outputs": [],
   "source": [
    "# Configuration\n",
    "CHROMA_PATH = \"/Users/chrismarkson/Downloads/project/chroma\"\n",
    "DATA_PATH = \"home_reviews.txt\" \n",
    "\n",
    "# Create the chromaDB\n",
    "embeddings = OpenAIEmbeddings(model=\"text-embedding-3-small\")\n",
    "db = Chroma(persist_directory=CHROMA_PATH, embedding_function=embeddings)\n",
    "\n",
    "df = pd.read_csv(DATA_PATH)\n",
    "documents = []\n",
    "for index, row in df.iterrows():\n",
    "    documents.append(Document(page_content=row['House_Description'], metadata={'id': str(index), 'type': 'House'}))\n",
    "for index, row in df.iterrows():\n",
    "    documents.append(Document(page_content=row['Neighborhood_Description'], metadata={'id': str(index), 'type': 'Neighborhood'}))\n",
    "\n",
    "\n",
    "# Split Text\n",
    "text_splitter = RecursiveCharacterTextSplitter(\n",
    "    chunk_size=500,\n",
    "    chunk_overlap=100,\n",
    "    length_function=len,\n",
    "    add_start_index=True,\n",
    ")\n",
    "chunks = text_splitter.split_documents(documents)\n",
    "\n",
    "print(f\"Number of chunks: {len(chunks)}\")\n"
   ]
  },
  {
   "cell_type": "code",
   "execution_count": null,
   "id": "cbc8ca35-407a-4e77-9e7c-b83b6bc16c54",
   "metadata": {},
   "outputs": [],
   "source": [
    "# Save to Chroma\n",
    "db = Chroma.from_documents(\n",
    "    chunks, OpenAIEmbeddings(model=\"text-embedding-3-small\"), persist_directory=CHROMA_PATH)\n",
    "\n",
    "print(f\"Saved {len(chunks)} chunks to {CHROMA_PATH}.\")\n"
   ]
  },
  {
   "cell_type": "markdown",
   "id": "ab285b72-72dd-42fa-a59d-c4f4dd109407",
   "metadata": {},
   "source": [
    "#### Step 4: Building the User Preference Interface"
   ]
  },
  {
   "cell_type": "markdown",
   "id": "fe1d4184-0f17-45a3-a0ff-d17e1316978e",
   "metadata": {},
   "source": [
    "Collect buyer preferences, such as the number of bedrooms, bathrooms, location, and other specific requirements from a set of questions or telling the buyer to enter their preferences in natural language. You can hard-code the buyer preferences in questions and answers, or collect them interactively.\n",
    "\n",
    "Buyer Preference Parsing: Implement logic to interpret and structure these preferences for querying the vector database.\n"
   ]
  },
  {
   "cell_type": "code",
   "execution_count": null,
   "id": "7ee6a5cd-bdff-4822-8f2e-83f2b65aa13d",
   "metadata": {},
   "outputs": [],
   "source": []
  },
  {
   "cell_type": "code",
   "execution_count": 55,
   "id": "939d12a1-5e4b-46e5-a263-47576118b95e",
   "metadata": {},
   "outputs": [],
   "source": [
    "questions = [\"How big do you want your house to be?\" \n",
    "\"What are 3 most important things for you in choosing this property?\", \n",
    "\"Which amenities would you like?\", \n",
    "\"Which transportation options are important to you?\",\n",
    "\"How urban do you want your neighborhood to be?\"]\n",
    "answers = [\"A comfortable three-bedroom house with a spacious kitchen and a cozy living room.\",\n",
    "\"A quiet neighborhood, good local schools, and convenient shopping options.\",\n",
    "\"A backyard for gardening, a two-car garage, and a modern, energy-efficient heating system.\",\n",
    "\"Easy access to a reliable bus line, proximity to a major highway, and bike-friendly roads.\",\n",
    "\"A balance between suburban tranquility and access to urban amenities like restaurants and theaters.\"]"
   ]
  },
  {
   "cell_type": "code",
   "execution_count": null,
   "id": "70413761-cd15-40c9-a9ba-994e7cfe1404",
   "metadata": {},
   "outputs": [],
   "source": []
  },
  {
   "cell_type": "code",
   "execution_count": null,
   "id": "88ae21c6-a7aa-4b06-a2c0-0db1c7573f1b",
   "metadata": {},
   "outputs": [],
   "source": []
  },
  {
   "cell_type": "code",
   "execution_count": null,
   "id": "87a0e9ae-377c-4276-81e0-0732f9d15c79",
   "metadata": {},
   "outputs": [],
   "source": []
  },
  {
   "cell_type": "markdown",
   "id": "c8d52add-9b03-468f-bcea-23c23e1d2ccb",
   "metadata": {},
   "source": [
    "#### Step 5: Searching Based on Preferences"
   ]
  },
  {
   "cell_type": "markdown",
   "id": "12bc537b-9528-4218-8e5c-c9378acc4a2f",
   "metadata": {},
   "source": [
    "Semantic Search Implementation: Use the structured buyer preferences to perform a semantic search on the vector database, retrieving listings that most closely match the user's requirements.\n",
    "Listing Retrieval Logic: Fine-tune the retrieval algorithm to ensure that the most relevant listings are selected based on the semantic closeness to the buyer’s preferences."
   ]
  },
  {
   "cell_type": "code",
   "execution_count": 71,
   "id": "7a58a8b8-cb34-4711-b3e4-a3a06ba8cc2d",
   "metadata": {},
   "outputs": [],
   "source": [
    "\n",
    "CHROMA_PATH = \"/Users/chrismarkson/Downloads/project/chroma\"\n",
    "\n",
    "PROMPT_TEMPLATE = \"\"\"\n",
    "You are a helpful real estate chat bot.\n",
    "Answer the question based only on the following context:\n",
    "\n",
    "{context}\n",
    "\n",
    "####\n",
    "\n",
    "Answer the question based on the above context: {question}\n",
    "\"\"\"\n",
    "\n",
    "\n"
   ]
  },
  {
   "cell_type": "code",
   "execution_count": 72,
   "id": "82f636d2-7a01-400e-aa78-0d0f2920f1c8",
   "metadata": {},
   "outputs": [
    {
     "name": "stdin",
     "output_type": "stream",
     "text": [
      "Enter a description of the property you're looking for: good schools\n"
     ]
    }
   ],
   "source": [
    "query_text = input(\"Enter a description of the property you're looking for:\")\n",
    "#query_text = \"Find me a house close to walking trails\" "
   ]
  },
  {
   "cell_type": "code",
   "execution_count": 73,
   "id": "fd26178a-d88a-4fbc-bcff-3d018e63ca54",
   "metadata": {},
   "outputs": [
    {
     "name": "stdout",
     "output_type": "stream",
     "text": [
      "good schools\n"
     ]
    }
   ],
   "source": [
    "print(query_text)"
   ]
  },
  {
   "cell_type": "code",
   "execution_count": 74,
   "id": "03e02d6d-86af-4523-b460-f1669255ae62",
   "metadata": {},
   "outputs": [
    {
     "name": "stdout",
     "output_type": "stream",
     "text": [
      "[(Document(page_content='Greenfield is a family-friendly neighborhood with excellent schools and a variety of recreational activities. The area is home to several parks, including Greenfield Park, which offers playgrounds, sports fields, and walking trails. The neighborhood also has a range of local shops, cafes, and restaurants. Greenfield is well-connected with public transportation options, making commuting easy.', metadata={'id': '12', 'start_index': 0, 'type': 'Neighborhood'}), 0.08690181047310996), (Document(page_content='Parkside is a vibrant community with top-rated schools and a variety of recreational activities. The neighborhood is home to several parks, including Parkside Central Park, which offers playgrounds, sports fields, and walking trails. The area also has a bustling downtown with shops, restaurants, and entertainment options.', metadata={'id': '8', 'start_index': 0, 'type': 'Neighborhood'}), 0.06704407899104259), (Document(page_content='Fairview is a vibrant community with top-rated schools and a variety of recreational activities. The neighborhood is home to several parks, including Fairview Central Park, which offers playgrounds, sports fields, and walking trails. The area also has a bustling downtown with shops, restaurants, and entertainment options.', metadata={'id': '14', 'start_index': 0, 'type': 'Neighborhood'}), 0.051296647636201564)]\n"
     ]
    }
   ],
   "source": [
    "# Search the DB\n",
    "results = db.similarity_search_with_relevance_scores(query_text, k=3,)\n",
    "print(results)"
   ]
  },
  {
   "cell_type": "code",
   "execution_count": 76,
   "id": "10b77f72-8073-45ac-ae1a-42220b6c2eab",
   "metadata": {
    "scrolled": true
   },
   "outputs": [
    {
     "name": "stdout",
     "output_type": "stream",
     "text": [
      "Human: \n",
      "You are a helpful real estate chat bot.\n",
      "Answer the question based only on the following context:\n",
      "\n",
      "Greenfield is a family-friendly neighborhood with excellent schools and a variety of recreational activities. The area is home to several parks, including Greenfield Park, which offers playgrounds, sports fields, and walking trails. The neighborhood also has a range of local shops, cafes, and restaurants. Greenfield is well-connected with public transportation options, making commuting easy.\n",
      "\n",
      "---\n",
      "\n",
      "Parkside is a vibrant community with top-rated schools and a variety of recreational activities. The neighborhood is home to several parks, including Parkside Central Park, which offers playgrounds, sports fields, and walking trails. The area also has a bustling downtown with shops, restaurants, and entertainment options.\n",
      "\n",
      "---\n",
      "\n",
      "Fairview is a vibrant community with top-rated schools and a variety of recreational activities. The neighborhood is home to several parks, including Fairview Central Park, which offers playgrounds, sports fields, and walking trails. The area also has a bustling downtown with shops, restaurants, and entertainment options.\n",
      "\n",
      "---Customer Preference Question: 1\n",
      "\n",
      "How big do you want your house to be?What are 3 most important things for you in choosing this property?\n",
      "Customer Preference Response: A comfortable three-bedroom house with a spacious kitchen and a cozy living room.\n",
      "\n",
      "---Customer Preference Question: 2\n",
      "\n",
      "Which amenities would you like?\n",
      "Customer Preference Response: A quiet neighborhood, good local schools, and convenient shopping options.\n",
      "\n",
      "---Customer Preference Question: 3\n",
      "\n",
      "Which transportation options are important to you?\n",
      "Customer Preference Response: A backyard for gardening, a two-car garage, and a modern, energy-efficient heating system.\n",
      "\n",
      "---Customer Preference Question: 4\n",
      "\n",
      "How urban do you want your neighborhood to be?\n",
      "Customer Preference Response: Easy access to a reliable bus line, proximity to a major highway, and bike-friendly roads.Greenfield is a family-friendly neighborhood with excellent schools and a variety of recreational activities. The area is home to several parks, including Greenfield Park, which offers playgrounds, sports fields, and walking trails. The neighborhood also has a range of local shops, cafes, and restaurants. Greenfield is well-connected with public transportation options, making commuting easy.\n",
      "\n",
      "---\n",
      "\n",
      "Parkside is a vibrant community with top-rated schools and a variety of recreational activities. The neighborhood is home to several parks, including Parkside Central Park, which offers playgrounds, sports fields, and walking trails. The area also has a bustling downtown with shops, restaurants, and entertainment options.\n",
      "\n",
      "---\n",
      "\n",
      "Fairview is a vibrant community with top-rated schools and a variety of recreational activities. The neighborhood is home to several parks, including Fairview Central Park, which offers playgrounds, sports fields, and walking trails. The area also has a bustling downtown with shops, restaurants, and entertainment options.\n",
      "\n",
      "####\n",
      "\n",
      "Answer the question based on the above context: good schools\n",
      "\n",
      "\n",
      "\n",
      "------\n",
      "I was able to find the following results: Based on the context provided, Parkside, Greenfield, and Fairview all have top-rated schools in their neighborhoods.\n",
      "\n",
      "\n",
      "Option 1:\n",
      "Neighborhood    Greenfield\n",
      "Price             $540,000\n",
      "Bedrooms                 4\n",
      "Bathrooms              3.0\n",
      "Name: 12, dtype: object\n",
      "\n",
      "\n",
      "\n",
      "Option 2:\n",
      "Neighborhood    Parkside\n",
      "Price           $530,000\n",
      "Bedrooms               4\n",
      "Bathrooms            3.0\n",
      "Name: 8, dtype: object\n",
      "\n",
      "\n",
      "\n",
      "Option 3:\n",
      "Neighborhood    Fairview\n",
      "Price           $580,000\n",
      "Bedrooms               4\n",
      "Bathrooms            3.0\n",
      "Name: 14, dtype: object\n",
      "\n",
      "\n",
      "\n"
     ]
    }
   ],
   "source": [
    "for i in range(0,len(questions)):\n",
    "    context_text=context_text+(f\"\\n\\n---Customer Preference Question: {i+1}\\n\\n\")+questions[i]\n",
    "    context_text=context_text+(f\"\\nCustomer Preference Response: \")+(answers[i])\n",
    "\n",
    "context_text2 = \"\\n\\n---\\n\\n\".join([doc.page_content for doc, _score in results])\n",
    "context_text=context_text + context_text2\n",
    "prompt_template = ChatPromptTemplate.from_template(PROMPT_TEMPLATE)\n",
    "prompt = prompt_template.format(context=context_text, question=query_text)\n",
    "\n",
    "model = ChatOpenAI()\n",
    "response_text = model.predict(prompt)\n",
    "\n",
    "sources = [doc.metadata.get(\"id\", None) for doc, _score in results]\n",
    "formatted_response = f\"I was able to find the following results: {response_text}\\n\\n\"\n",
    "print(prompt+\"\\n\\n\\n------\")\n",
    "print(formatted_response)\n",
    "\n",
    "for i in range(0,len(sources)):\n",
    "    print(f\"Option {i+1}:\")\n",
    "    print(df.iloc[int(sources[i]),0:4])\n",
    "    print(\"\\n\\n\")"
   ]
  },
  {
   "cell_type": "code",
   "execution_count": null,
   "id": "2b69dfa7-9e37-402d-8d61-1a0b93d011f2",
   "metadata": {},
   "outputs": [],
   "source": []
  },
  {
   "cell_type": "code",
   "execution_count": null,
   "id": "53f83c91-07f3-4168-9535-22520819e908",
   "metadata": {},
   "outputs": [],
   "source": [
    "df[0]"
   ]
  },
  {
   "cell_type": "markdown",
   "id": "2ee403e7-c341-4c54-a8a6-247eba4b7092",
   "metadata": {},
   "source": [
    "#### Step 6: Personalizing Listing Descriptions"
   ]
  },
  {
   "cell_type": "markdown",
   "id": "93cab059-67f3-48d9-a406-c39cbca2b083",
   "metadata": {},
   "source": [
    "LLM Augmentation: For each retrieved listing, use the LLM to augment the description, tailoring it to resonate with the buyer’s specific preferences. This involves subtly emphasizing aspects of the property that align with what the buyer is looking for.\n",
    "Maintaining Factual Integrity: Ensure that the augmentation process enhances the appeal of the listing without altering factual information."
   ]
  },
  {
   "cell_type": "code",
   "execution_count": 77,
   "id": "38bde333-9f3e-4199-9d90-fbc9fe575317",
   "metadata": {},
   "outputs": [],
   "source": [
    "PROMPT_TEMPLATE = \"\"\"\n",
    "You are a helpful real estate chat bot.\n",
    "Answer the question based only on the following context:\n",
    "\n",
    "{context}\n",
    "\n",
    "####\n",
    "\n",
    "Using the information above, change the description to highlight the components most important to the customer.  Emphasize the spects of the property to make it a compelling sell.  Important! Maintain factual information according to the listing but feel free to use creative language.\n",
    "\n",
    "Answer the question based on the above context: {question}\n",
    "\"\"\"\n"
   ]
  },
  {
   "cell_type": "code",
   "execution_count": 78,
   "id": "8eae1791-9f57-4f76-80ae-912bc47d3de5",
   "metadata": {},
   "outputs": [
    {
     "name": "stdin",
     "output_type": "stream",
     "text": [
      "Enter a description of the property you're looking for: nice backyard\n"
     ]
    },
    {
     "name": "stdout",
     "output_type": "stream",
     "text": [
      "nice backyard\n"
     ]
    }
   ],
   "source": [
    "query_text = input(\"Enter a description of the property you're looking for:\")\n",
    "print(query_text)"
   ]
  },
  {
   "cell_type": "code",
   "execution_count": 79,
   "id": "fccdb20a-03fd-4742-b3a2-8bef6abca6a2",
   "metadata": {},
   "outputs": [
    {
     "name": "stdout",
     "output_type": "stream",
     "text": [
      "[(Document(page_content='shower. The backyard is perfect for entertaining, with a large patio and a beautifully landscaped garden.', metadata={'id': '3', 'start_index': 403, 'type': 'House'}), 0.46899799983362944), (Document(page_content='and separate shower. The backyard is perfect for entertaining, with a large patio and a beautifully landscaped garden.', metadata={'id': '9', 'start_index': 395, 'type': 'House'}), 0.42088962948545205), (Document(page_content='separate shower. The backyard offers a large patio and a beautifully landscaped garden, perfect for entertaining.', metadata={'id': '6', 'start_index': 400, 'type': 'House'}), 0.4181021617678248)]\n"
     ]
    }
   ],
   "source": [
    "# Search the DB\n",
    "results = db.similarity_search_with_relevance_scores(query_text, k=3,)\n",
    "print(results)"
   ]
  },
  {
   "cell_type": "code",
   "execution_count": 80,
   "id": "fd9e3c37-e32f-4db1-8fb9-759b1c8d8e0f",
   "metadata": {},
   "outputs": [
    {
     "name": "stdout",
     "output_type": "stream",
     "text": [
      "Human: \n",
      "You are a helpful real estate chat bot.\n",
      "Answer the question based only on the following context:\n",
      "\n",
      "Greenfield is a family-friendly neighborhood with excellent schools and a variety of recreational activities. The area is home to several parks, including Greenfield Park, which offers playgrounds, sports fields, and walking trails. The neighborhood also has a range of local shops, cafes, and restaurants. Greenfield is well-connected with public transportation options, making commuting easy.\n",
      "\n",
      "---\n",
      "\n",
      "Parkside is a vibrant community with top-rated schools and a variety of recreational activities. The neighborhood is home to several parks, including Parkside Central Park, which offers playgrounds, sports fields, and walking trails. The area also has a bustling downtown with shops, restaurants, and entertainment options.\n",
      "\n",
      "---\n",
      "\n",
      "Fairview is a vibrant community with top-rated schools and a variety of recreational activities. The neighborhood is home to several parks, including Fairview Central Park, which offers playgrounds, sports fields, and walking trails. The area also has a bustling downtown with shops, restaurants, and entertainment options.\n",
      "\n",
      "---Customer Preference Question: 1\n",
      "\n",
      "How big do you want your house to be?What are 3 most important things for you in choosing this property?\n",
      "Customer Preference Response: A comfortable three-bedroom house with a spacious kitchen and a cozy living room.\n",
      "\n",
      "---Customer Preference Question: 2\n",
      "\n",
      "Which amenities would you like?\n",
      "Customer Preference Response: A quiet neighborhood, good local schools, and convenient shopping options.\n",
      "\n",
      "---Customer Preference Question: 3\n",
      "\n",
      "Which transportation options are important to you?\n",
      "Customer Preference Response: A backyard for gardening, a two-car garage, and a modern, energy-efficient heating system.\n",
      "\n",
      "---Customer Preference Question: 4\n",
      "\n",
      "How urban do you want your neighborhood to be?\n",
      "Customer Preference Response: Easy access to a reliable bus line, proximity to a major highway, and bike-friendly roads.Greenfield is a family-friendly neighborhood with excellent schools and a variety of recreational activities. The area is home to several parks, including Greenfield Park, which offers playgrounds, sports fields, and walking trails. The neighborhood also has a range of local shops, cafes, and restaurants. Greenfield is well-connected with public transportation options, making commuting easy.\n",
      "\n",
      "---\n",
      "\n",
      "Parkside is a vibrant community with top-rated schools and a variety of recreational activities. The neighborhood is home to several parks, including Parkside Central Park, which offers playgrounds, sports fields, and walking trails. The area also has a bustling downtown with shops, restaurants, and entertainment options.\n",
      "\n",
      "---\n",
      "\n",
      "Fairview is a vibrant community with top-rated schools and a variety of recreational activities. The neighborhood is home to several parks, including Fairview Central Park, which offers playgrounds, sports fields, and walking trails. The area also has a bustling downtown with shops, restaurants, and entertainment options.\n",
      "\n",
      "---Customer Preference Question: 1\n",
      "\n",
      "How big do you want your house to be?What are 3 most important things for you in choosing this property?\n",
      "Customer Preference Response: A comfortable three-bedroom house with a spacious kitchen and a cozy living room.\n",
      "\n",
      "---Customer Preference Question: 2\n",
      "\n",
      "Which amenities would you like?\n",
      "Customer Preference Response: A quiet neighborhood, good local schools, and convenient shopping options.\n",
      "\n",
      "---Customer Preference Question: 3\n",
      "\n",
      "Which transportation options are important to you?\n",
      "Customer Preference Response: A backyard for gardening, a two-car garage, and a modern, energy-efficient heating system.\n",
      "\n",
      "---Customer Preference Question: 4\n",
      "\n",
      "How urban do you want your neighborhood to be?\n",
      "Customer Preference Response: Easy access to a reliable bus line, proximity to a major highway, and bike-friendly roads.shower. The backyard is perfect for entertaining, with a large patio and a beautifully landscaped garden.\n",
      "\n",
      "---\n",
      "\n",
      "and separate shower. The backyard is perfect for entertaining, with a large patio and a beautifully landscaped garden.\n",
      "\n",
      "---\n",
      "\n",
      "separate shower. The backyard offers a large patio and a beautifully landscaped garden, perfect for entertaining.\n",
      "\n",
      "####\n",
      "\n",
      "Using the information above, change the description to highlight the components most important to the customer.  Emphasize the spects of the property to make it a compelling sell.  Important! Maintain factual information according to the listing but feel free to use creative language.\n",
      "\n",
      "Answer the question based on the above context: nice backyard\n",
      "\n",
      "\n",
      "\n",
      "------\n",
      "I was able to find the following results: The property features a stunning backyard oasis, complete with a large patio and beautifully landscaped garden. Perfect for entertaining guests or simply relaxing in your own private outdoor sanctuary.\n",
      "\n",
      "\n",
      "Option 1:\n",
      "Neighborhood    Brookside\n",
      "Price            $700,000\n",
      "Bedrooms                4\n",
      "Bathrooms             3.5\n",
      "Name: 3, dtype: object\n",
      "\n",
      "\n",
      "\n",
      "Option 2:\n",
      "Neighborhood    Highland Hills\n",
      "Price                 $680,000\n",
      "Bedrooms                     4\n",
      "Bathrooms                  3.5\n",
      "Name: 9, dtype: object\n",
      "\n",
      "\n",
      "\n",
      "Option 3:\n",
      "Neighborhood     Oakwood\n",
      "Price           $620,000\n",
      "Bedrooms               3\n",
      "Bathrooms            2.5\n",
      "Name: 6, dtype: object\n",
      "\n",
      "\n",
      "\n"
     ]
    }
   ],
   "source": [
    "for i in range(0,len(questions)):\n",
    "    context_text=context_text+(f\"\\n\\n---Customer Preference Question: {i+1}\\n\\n\")+questions[i]\n",
    "    context_text=context_text+(f\"\\nCustomer Preference Response: \")+(answers[i])\n",
    "\n",
    "context_text2 = \"\\n\\n---\\n\\n\".join([doc.page_content for doc, _score in results])\n",
    "context_text=context_text + context_text2\n",
    "prompt_template = ChatPromptTemplate.from_template(PROMPT_TEMPLATE)\n",
    "prompt = prompt_template.format(context=context_text, question=query_text)\n",
    "\n",
    "model = ChatOpenAI()\n",
    "response_text = model.predict(prompt)\n",
    "\n",
    "sources = [doc.metadata.get(\"id\", None) for doc, _score in results]\n",
    "formatted_response = f\"I was able to find the following results: {response_text}\\n\\n\"\n",
    "print(prompt+\"\\n\\n\\n------\")\n",
    "print(formatted_response)\n",
    "\n",
    "for i in range(0,len(sources)):\n",
    "    print(f\"Option {i+1}:\")\n",
    "    print(df.iloc[int(sources[i]),0:4])\n",
    "    print(\"\\n\\n\")"
   ]
  },
  {
   "cell_type": "code",
   "execution_count": null,
   "id": "a24041a8-4012-45b8-8b71-87929f087372",
   "metadata": {},
   "outputs": [],
   "source": []
  }
 ],
 "metadata": {
  "kernelspec": {
   "display_name": "Python 3 (ipykernel)",
   "language": "python",
   "name": "python3"
  },
  "language_info": {
   "codemirror_mode": {
    "name": "ipython",
    "version": 3
   },
   "file_extension": ".py",
   "mimetype": "text/x-python",
   "name": "python",
   "nbconvert_exporter": "python",
   "pygments_lexer": "ipython3",
   "version": "3.12.2"
  }
 },
 "nbformat": 4,
 "nbformat_minor": 5
}
